{
 "cells": [
  {
   "cell_type": "code",
   "execution_count": 1,
   "metadata": {},
   "outputs": [],
   "source": [
    "import matplotlib.pyplot as plt\n",
    "from keras.datasets import mnist\n",
    "import numpy as np\n",
    "\n",
    "from qiskit import *\n",
    "from qiskit.visualization import plot_histogram\n",
    "from qiskit.circuit import ParameterVector\n",
    "from qiskit.circuit.library import TwoLocal, UniformDistribution\n",
    "from qiskit.quantum_info import Statevector\n",
    "from qiskit_machine_learning.algorithms import NumPyDiscriminator, QGAN\n",
    "from qiskit.aqua.operators.gradients import Gradient\n",
    "from qiskit.aqua import *"
   ]
  },
  {
   "cell_type": "code",
   "execution_count": 13,
   "metadata": {},
   "outputs": [
    {
     "name": "stdout",
     "output_type": "stream",
     "text": [
      "16\n"
     ]
    }
   ],
   "source": [
    "bound = []\n",
    "seed = 71\n",
    "for i in range(16):\n",
    "    bound.append([0., 1.])\n",
    "bound = np.array(bound)\n",
    "num_qbits = np.ones((16,), dtype=int)\n",
    "batch_size = 1000\n",
    "num_epochs = 100\n",
    "print(sum(num_qbits))"
   ]
  },
  {
   "cell_type": "code",
   "execution_count": 14,
   "metadata": {},
   "outputs": [],
   "source": [
    "def binary(x):\n",
    "    if x == 0:\n",
    "        return 0\n",
    "    return 1"
   ]
  },
  {
   "cell_type": "code",
   "execution_count": 30,
   "metadata": {},
   "outputs": [
    {
     "data": {
      "text/plain": [
       "<matplotlib.image.AxesImage at 0x7f97ccff70d0>"
      ]
     },
     "execution_count": 30,
     "metadata": {},
     "output_type": "execute_result"
    },
    {
     "data": {
      "image/png": "[encoded data removed]",
      "text/plain": [
       "<Figure size 432x288 with 1 Axes>"
      ]
     },
     "metadata": {
      "needs_background": "light"
     },
     "output_type": "display_data"
    }
   ],
   "source": [
    "(real_X, real_Y), _ = mnist.load_data()\n",
    "resized = []\n",
    "filtred = []\n",
    "for i in range(60000):\n",
    "    if real_Y[i] == 1:\n",
    "        filtred.append(real_X[i])\n",
    "for n in range(5000):\n",
    "    resized.append([])\n",
    "    for i in range(4):\n",
    "        for j in range(4):\n",
    "            resized[n].append(binary(filtred[n][i*5 + 5][j*5 + 5]))\n",
    "resized = np.array(resized)\n",
    "plt.imshow(np.array(resized[32]).reshape(4,4), cmap='gray')"
   ]
  },
  {
   "cell_type": "code",
   "execution_count": 9,
   "metadata": {},
   "outputs": [
    {
     "ename": "KeyboardInterrupt",
     "evalue": "",
     "output_type": "error",
     "traceback": [
      "\u001b[0;31m---------------------------------------------------------------------------\u001b[0m",
      "\u001b[0;31mKeyboardInterrupt\u001b[0m                         Traceback (most recent call last)",
      "\u001b[0;32m<ipython-input-9-a36607dafb10>\u001b[0m in \u001b[0;36m<module>\u001b[0;34m\u001b[0m\n\u001b[0;32m----> 1\u001b[0;31m \u001b[0mqgan\u001b[0m \u001b[0;34m=\u001b[0m \u001b[0mQGAN\u001b[0m\u001b[0;34m(\u001b[0m\u001b[0mresized\u001b[0m\u001b[0;34m,\u001b[0m \u001b[0mbound\u001b[0m\u001b[0;34m,\u001b[0m \u001b[0mnum_qbits\u001b[0m\u001b[0;34m,\u001b[0m \u001b[0mbatch_size\u001b[0m\u001b[0;34m,\u001b[0m \u001b[0mnum_epochs\u001b[0m\u001b[0;34m,\u001b[0m \u001b[0msnapshot_dir\u001b[0m\u001b[0;34m=\u001b[0m\u001b[0;34m'./'\u001b[0m\u001b[0;34m)\u001b[0m\u001b[0;34m\u001b[0m\u001b[0;34m\u001b[0m\u001b[0m\n\u001b[0m",
      "\u001b[0;32m~/opt/anaconda3/lib/python3.8/site-packages/qiskit_machine_learning/algorithms/distribution_learners/qgan/qgan.py\u001b[0m in \u001b[0;36m__init__\u001b[0;34m(self, data, bounds, num_qubits, batch_size, num_epochs, seed, discriminator, generator, tol_rel_ent, snapshot_dir, quantum_instance)\u001b[0m\n\u001b[1;32m    132\u001b[0m                 \u001b[0mself\u001b[0m\u001b[0;34m.\u001b[0m\u001b[0m_num_qubits\u001b[0m \u001b[0;34m=\u001b[0m \u001b[0mnp\u001b[0m\u001b[0;34m.\u001b[0m\u001b[0marray\u001b[0m\u001b[0;34m(\u001b[0m\u001b[0;34m[\u001b[0m\u001b[0;36m3\u001b[0m\u001b[0;34m]\u001b[0m\u001b[0;34m)\u001b[0m\u001b[0;34m\u001b[0m\u001b[0;34m\u001b[0m\u001b[0m\n\u001b[1;32m    133\u001b[0m         \u001b[0mself\u001b[0m\u001b[0;34m.\u001b[0m\u001b[0m_data\u001b[0m\u001b[0;34m,\u001b[0m \u001b[0mself\u001b[0m\u001b[0;34m.\u001b[0m\u001b[0m_data_grid\u001b[0m\u001b[0;34m,\u001b[0m \u001b[0mself\u001b[0m\u001b[0;34m.\u001b[0m\u001b[0m_grid_elements\u001b[0m\u001b[0;34m,\u001b[0m \u001b[0mself\u001b[0m\u001b[0;34m.\u001b[0m\u001b[0m_prob_data\u001b[0m \u001b[0;34m=\u001b[0m\u001b[0;31m \u001b[0m\u001b[0;31m\\\u001b[0m\u001b[0;34m\u001b[0m\u001b[0;34m\u001b[0m\u001b[0m\n\u001b[0;32m--> 134\u001b[0;31m             discretize_and_truncate(self._data, self._bounds, self._num_qubits,\n\u001b[0m\u001b[1;32m    135\u001b[0m                                     \u001b[0mreturn_data_grid_elements\u001b[0m\u001b[0;34m=\u001b[0m\u001b[0;32mTrue\u001b[0m\u001b[0;34m,\u001b[0m\u001b[0;34m\u001b[0m\u001b[0;34m\u001b[0m\u001b[0m\n\u001b[1;32m    136\u001b[0m                                     return_prob=True, prob_non_zero=True)\n",
      "\u001b[0;32m~/opt/anaconda3/lib/python3.8/site-packages/qiskit_machine_learning/datasets/dataset_helper.py\u001b[0m in \u001b[0;36mdiscretize_and_truncate\u001b[0;34m(data, bounds, num_qubits, return_data_grid_elements, return_prob, prob_non_zero)\u001b[0m\n\u001b[1;32m    106\u001b[0m         \u001b[0;32mfor\u001b[0m \u001b[0mdata_element\u001b[0m \u001b[0;32min\u001b[0m \u001b[0mdata\u001b[0m\u001b[0;34m:\u001b[0m\u001b[0;34m\u001b[0m\u001b[0;34m\u001b[0m\u001b[0m\n\u001b[1;32m    107\u001b[0m             \u001b[0;32mfor\u001b[0m \u001b[0mi\u001b[0m\u001b[0;34m,\u001b[0m \u001b[0melement\u001b[0m \u001b[0;32min\u001b[0m \u001b[0menumerate\u001b[0m\u001b[0;34m(\u001b[0m\u001b[0mgrid_elements\u001b[0m\u001b[0;34m)\u001b[0m\u001b[0;34m:\u001b[0m\u001b[0;34m\u001b[0m\u001b[0;34m\u001b[0m\u001b[0m\n\u001b[0;32m--> 108\u001b[0;31m                 \u001b[0;32mif\u001b[0m \u001b[0mall\u001b[0m\u001b[0;34m(\u001b[0m\u001b[0mdata_element\u001b[0m \u001b[0;34m==\u001b[0m \u001b[0melement\u001b[0m\u001b[0;34m)\u001b[0m\u001b[0;34m:\u001b[0m\u001b[0;34m\u001b[0m\u001b[0;34m\u001b[0m\u001b[0m\n\u001b[0m\u001b[1;32m    109\u001b[0m                     \u001b[0mprob_data\u001b[0m\u001b[0;34m[\u001b[0m\u001b[0mi\u001b[0m\u001b[0;34m]\u001b[0m \u001b[0;34m+=\u001b[0m \u001b[0;36m1\u001b[0m \u001b[0;34m/\u001b[0m \u001b[0mlen\u001b[0m\u001b[0;34m(\u001b[0m\u001b[0mdata\u001b[0m\u001b[0;34m)\u001b[0m\u001b[0;34m\u001b[0m\u001b[0;34m\u001b[0m\u001b[0m\n\u001b[1;32m    110\u001b[0m         \u001b[0;32mif\u001b[0m \u001b[0mprob_non_zero\u001b[0m\u001b[0;34m:\u001b[0m\u001b[0;34m\u001b[0m\u001b[0;34m\u001b[0m\u001b[0m\n",
      "\u001b[0;31mKeyboardInterrupt\u001b[0m: "
     ]
    }
   ],
   "source": [
    "qgan = QGAN(resized, bound, num_qbits, batch_size, num_epochs, snapshot_dir='./')"
   ]
  },
  {
   "cell_type": "code",
   "execution_count": 324,
   "metadata": {},
   "outputs": [],
   "source": [
    "quantum_instance = QuantumInstance(backend=BasicAer.get_backend('statevector_simulator'),shots=10,\n",
    "                                   seed_transpiler=seed, seed_simulator=seed)"
   ]
  },
  {
   "cell_type": "code",
   "execution_count": 325,
   "metadata": {},
   "outputs": [],
   "source": [
    "ansatz = TwoLocal(int(np.sum(num_qbits)), 'ry', 'cz', entanglement='circular', reps=1)"
   ]
  },
  {
   "cell_type": "code",
   "execution_count": 326,
   "metadata": {},
   "outputs": [
    {
     "name": "stderr",
     "output_type": "stream",
     "text": [
      "<ipython-input-326-6e18a389f5bf>:1: DeprecationWarning: `UniformDistribution` is deprecated as of version 0.17.0 and will be removed no earlier than 3 months after the release date. It moved to qiskit_finance.circuit.library.UniformDistribution.\n",
      "  init_dist = UniformDistribution(16)\n"
     ]
    }
   ],
   "source": [
    "init_dist = UniformDistribution(16)"
   ]
  },
  {
   "cell_type": "code",
   "execution_count": 327,
   "metadata": {},
   "outputs": [],
   "source": [
    "generator = ansatz.compose(init_dist, front = True)"
   ]
  },
  {
   "cell_type": "code",
   "execution_count": 328,
   "metadata": {},
   "outputs": [
    {
     "name": "stdout",
     "output_type": "stream",
     "text": [
      "      ┌───┐ ┌──────────┐      ┌───────────┐                          »\n",
      " q_0: ┤ H ├─┤ RY(θ[0]) ├─■──■─┤ RY(θ[16]) ├──────────────────────────»\n",
      "      ├───┤ ├──────────┤ │  │ └───────────┘┌───────────┐             »\n",
      " q_1: ┤ H ├─┤ RY(θ[1]) ├─┼──■───────■──────┤ RY(θ[17]) ├─────────────»\n",
      "      ├───┤ ├──────────┤ │          │      └───────────┘┌───────────┐»\n",
      " q_2: ┤ H ├─┤ RY(θ[2]) ├─┼──────────■────────────■──────┤ RY(θ[18]) ├»\n",
      "      ├───┤ ├──────────┤ │                       │      └───────────┘»\n",
      " q_3: ┤ H ├─┤ RY(θ[3]) ├─┼───────────────────────■────────────■──────»\n",
      "      ├───┤ ├──────────┤ │                                    │      »\n",
      " q_4: ┤ H ├─┤ RY(θ[4]) ├─┼────────────────────────────────────■──────»\n",
      "      ├───┤ ├──────────┤ │                                           »\n",
      " q_5: ┤ H ├─┤ RY(θ[5]) ├─┼───────────────────────────────────────────»\n",
      "      ├───┤ ├──────────┤ │                                           »\n",
      " q_6: ┤ H ├─┤ RY(θ[6]) ├─┼───────────────────────────────────────────»\n",
      "      ├───┤ ├──────────┤ │                                           »\n",
      " q_7: ┤ H ├─┤ RY(θ[7]) ├─┼───────────────────────────────────────────»\n",
      "      ├───┤ ├──────────┤ │                                           »\n",
      " q_8: ┤ H ├─┤ RY(θ[8]) ├─┼───────────────────────────────────────────»\n",
      "      ├───┤ ├──────────┤ │                                           »\n",
      " q_9: ┤ H ├─┤ RY(θ[9]) ├─┼───────────────────────────────────────────»\n",
      "      ├───┤┌┴──────────┤ │                                           »\n",
      "q_10: ┤ H ├┤ RY(θ[10]) ├─┼───────────────────────────────────────────»\n",
      "      ├───┤├───────────┤ │                                           »\n",
      "q_11: ┤ H ├┤ RY(θ[11]) ├─┼───────────────────────────────────────────»\n",
      "      ├───┤├───────────┤ │                                           »\n",
      "q_12: ┤ H ├┤ RY(θ[12]) ├─┼───────────────────────────────────────────»\n",
      "      ├───┤├───────────┤ │                                           »\n",
      "q_13: ┤ H ├┤ RY(θ[13]) ├─┼───────────────────────────────────────────»\n",
      "      ├───┤├───────────┤ │                                           »\n",
      "q_14: ┤ H ├┤ RY(θ[14]) ├─┼───────────────────────────────────────────»\n",
      "      ├───┤├───────────┤ │                                           »\n",
      "q_15: ┤ H ├┤ RY(θ[15]) ├─■───────────────────────────────────────────»\n",
      "      └───┘└───────────┘                                             »\n",
      "«                                                                       »\n",
      "« q_0: ─────────────────────────────────────────────────────────────────»\n",
      "«                                                                       »\n",
      "« q_1: ─────────────────────────────────────────────────────────────────»\n",
      "«                                                                       »\n",
      "« q_2: ─────────────────────────────────────────────────────────────────»\n",
      "«      ┌───────────┐                                                    »\n",
      "« q_3: ┤ RY(θ[19]) ├────────────────────────────────────────────────────»\n",
      "«      └───────────┘┌───────────┐                                       »\n",
      "« q_4: ──────■──────┤ RY(θ[20]) ├───────────────────────────────────────»\n",
      "«            │      └───────────┘┌───────────┐                          »\n",
      "« q_5: ──────■────────────■──────┤ RY(θ[21]) ├──────────────────────────»\n",
      "«                         │      └───────────┘┌───────────┐             »\n",
      "« q_6: ───────────────────■────────────■──────┤ RY(θ[22]) ├─────────────»\n",
      "«                                      │      └───────────┘┌───────────┐»\n",
      "« q_7: ────────────────────────────────■────────────■──────┤ RY(θ[23]) ├»\n",
      "«                                                   │      └───────────┘»\n",
      "« q_8: ─────────────────────────────────────────────■────────────■──────»\n",
      "«                                                                │      »\n",
      "« q_9: ──────────────────────────────────────────────────────────■──────»\n",
      "«                                                                       »\n",
      "«q_10: ─────────────────────────────────────────────────────────────────»\n",
      "«                                                                       »\n",
      "«q_11: ─────────────────────────────────────────────────────────────────»\n",
      "«                                                                       »\n",
      "«q_12: ─────────────────────────────────────────────────────────────────»\n",
      "«                                                                       »\n",
      "«q_13: ─────────────────────────────────────────────────────────────────»\n",
      "«                                                                       »\n",
      "«q_14: ─────────────────────────────────────────────────────────────────»\n",
      "«                                                                       »\n",
      "«q_15: ─────────────────────────────────────────────────────────────────»\n",
      "«                                                                       »\n",
      "«                                                                       »\n",
      "« q_0: ─────────────────────────────────────────────────────────────────»\n",
      "«                                                                       »\n",
      "« q_1: ─────────────────────────────────────────────────────────────────»\n",
      "«                                                                       »\n",
      "« q_2: ─────────────────────────────────────────────────────────────────»\n",
      "«                                                                       »\n",
      "« q_3: ─────────────────────────────────────────────────────────────────»\n",
      "«                                                                       »\n",
      "« q_4: ─────────────────────────────────────────────────────────────────»\n",
      "«                                                                       »\n",
      "« q_5: ─────────────────────────────────────────────────────────────────»\n",
      "«                                                                       »\n",
      "« q_6: ─────────────────────────────────────────────────────────────────»\n",
      "«                                                                       »\n",
      "« q_7: ─────────────────────────────────────────────────────────────────»\n",
      "«      ┌───────────┐                                                    »\n",
      "« q_8: ┤ RY(θ[24]) ├────────────────────────────────────────────────────»\n",
      "«      └───────────┘┌───────────┐                                       »\n",
      "« q_9: ──────■──────┤ RY(θ[25]) ├───────────────────────────────────────»\n",
      "«            │      └───────────┘┌───────────┐                          »\n",
      "«q_10: ──────■────────────■──────┤ RY(θ[26]) ├──────────────────────────»\n",
      "«                         │      └───────────┘┌───────────┐             »\n",
      "«q_11: ───────────────────■────────────■──────┤ RY(θ[27]) ├─────────────»\n",
      "«                                      │      └───────────┘┌───────────┐»\n",
      "«q_12: ────────────────────────────────■────────────■──────┤ RY(θ[28]) ├»\n",
      "«                                                   │      └───────────┘»\n",
      "«q_13: ─────────────────────────────────────────────■────────────■──────»\n",
      "«                                                                │      »\n",
      "«q_14: ──────────────────────────────────────────────────────────■──────»\n",
      "«                                                                       »\n",
      "«q_15: ─────────────────────────────────────────────────────────────────»\n",
      "«                                                                       »\n",
      "«                                \n",
      "« q_0: ──────────────────────────\n",
      "«                                \n",
      "« q_1: ──────────────────────────\n",
      "«                                \n",
      "« q_2: ──────────────────────────\n",
      "«                                \n",
      "« q_3: ──────────────────────────\n",
      "«                                \n",
      "« q_4: ──────────────────────────\n",
      "«                                \n",
      "« q_5: ──────────────────────────\n",
      "«                                \n",
      "« q_6: ──────────────────────────\n",
      "«                                \n",
      "« q_7: ──────────────────────────\n",
      "«                                \n",
      "« q_8: ──────────────────────────\n",
      "«                                \n",
      "« q_9: ──────────────────────────\n",
      "«                                \n",
      "«q_10: ──────────────────────────\n",
      "«                                \n",
      "«q_11: ──────────────────────────\n",
      "«                                \n",
      "«q_12: ──────────────────────────\n",
      "«      ┌───────────┐             \n",
      "«q_13: ┤ RY(θ[29]) ├─────────────\n",
      "«      └───────────┘┌───────────┐\n",
      "«q_14: ──────■──────┤ RY(θ[30]) ├\n",
      "«            │      ├───────────┤\n",
      "«q_15: ──────■──────┤ RY(θ[31]) ├\n",
      "«                   └───────────┘\n"
     ]
    }
   ],
   "source": [
    "print(generator)"
   ]
  },
  {
   "cell_type": "code",
   "execution_count": 329,
   "metadata": {},
   "outputs": [],
   "source": [
    "init_params = np.random.rand(32)"
   ]
  },
  {
   "cell_type": "code",
   "execution_count": 330,
   "metadata": {},
   "outputs": [],
   "source": [
    "qgan.set_generator(generator_circuit=generator, generator_init_params=init_params)"
   ]
  },
  {
   "cell_type": "code",
   "execution_count": 331,
   "metadata": {},
   "outputs": [],
   "source": [
    "qgan.generator.optimizer.set_options(lr=0.005)"
   ]
  },
  {
   "cell_type": "code",
   "execution_count": 332,
   "metadata": {},
   "outputs": [],
   "source": [
    "qgan._generator._free_parameters = sorted(generator.parameters, key=lambda p: p.name)\n",
    "discriminator = NumPyDiscriminator(len(num_qbits))\n",
    "qgan.set_discriminator(discriminator)"
   ]
  },
  {
   "cell_type": "code",
   "execution_count": 333,
   "metadata": {
    "scrolled": false
   },
   "outputs": [],
   "source": [
    "result = qgan.run(quantum_instance)"
   ]
  },
  {
   "cell_type": "code",
   "execution_count": 152,
   "metadata": {},
   "outputs": [],
   "source": [
    "qgan.generator.generator_circuit.measure_all()"
   ]
  },
  {
   "cell_type": "code",
   "execution_count": null,
   "metadata": {},
   "outputs": [],
   "source": [
    "#enter generator parameters below to run the generator(see the output.cvs)"
   ]
  },
  {
   "cell_type": "code",
   "execution_count": 155,
   "metadata": {},
   "outputs": [],
   "source": [
    "from qiskit.circuit import Parameter\n",
    "\n",
    "samp = execute(qgan.generator.generator_circuit, backend=backend, parameter_binds=[{qgan.generator.generator_circuit.parameters[i]: [ 0.06417828,  0.09175785,  0.58827114, -0.17156213,  0.05887562, -0.13388086,\n",
    "  0.2602403,   1.12305652,  0.02346487, -0.21328849,  0.94425884, -0.08854179,\n",
    "  0.86434704,  0.9300088,   0.93542944,  0.10256475,  0.88636679,  0.98512674,\n",
    "  0.35813133,  0.340117,    0.6048655,   1.18874142,  0.08244926,  0.76949756,\n",
    "  1.16278194,  0.58932069,  0.6379748,   0.18482973, -0.089858,   -0.22755808,\n",
    "  0.26893212,  0.51582041][i] for i in range(32)}], shots=8192)"
   ]
  },
  {
   "cell_type": "code",
   "execution_count": null,
   "metadata": {},
   "outputs": [],
   "source": [
    "#enter the sample to be sampled below"
   ]
  },
  {
   "cell_type": "code",
   "execution_count": 157,
   "metadata": {
    "scrolled": true
   },
   "outputs": [
    {
     "data": {
      "text/plain": [
       "<matplotlib.image.AxesImage at 0x7fa36f39d0a0>"
      ]
     },
     "execution_count": 157,
     "metadata": {},
     "output_type": "execute_result"
    },
    {
     "data": {
      "image/png": "[encoded data removed]",
      "text/plain": [
       "<Figure size 432x288 with 1 Axes>"
      ]
     },
     "metadata": {
      "needs_background": "light"
     },
     "output_type": "display_data"
    }
   ],
   "source": [
    "plt.imshow(np.array([1.0,1.0,1.0,1.0,1.0,1.0,1.0,1.0,1.0,1.0,1.0,1.0,1.0,1.0,1.0,1.0]).reshape(4,4),cmap='gray')"
   ]
  },
  {
   "cell_type": "code",
   "execution_count": 106,
   "metadata": {},
   "outputs": [
    {
     "data": {
      "text/plain": [
       "array([0.75756144, 0.95786947, 0.99864613, 0.18245381, 0.77164112,\n",
       "       0.82313581, 0.47471644, 0.58984941, 0.32045968, 0.2576175 ,\n",
       "       0.52475293, 0.3466008 , 0.80511794, 0.17551171, 0.53816665,\n",
       "       0.4011906 , 0.50093188, 0.82756263, 0.35830814, 0.53123161,\n",
       "       0.11105832, 0.10000138, 0.2283531 , 0.86659742, 0.32070056,\n",
       "       0.8777781 , 0.33868214, 0.67448114, 0.93536478, 0.04485196,\n",
       "       0.29145648, 0.12166456])"
      ]
     },
     "execution_count": 106,
     "metadata": {},
     "output_type": "execute_result"
    }
   ],
   "source": [
    "qgan.generator.parameter_values"
   ]
  },
  {
   "cell_type": "code",
   "execution_count": 167,
   "metadata": {
    "scrolled": false
   },
   "outputs": [],
   "source": [
    "vals = list(samp.result().get_counts().values())"
   ]
  },
  {
   "cell_type": "code",
   "execution_count": null,
   "metadata": {},
   "outputs": [],
   "source": [
    "#find the most probable samples"
   ]
  },
  {
   "cell_type": "code",
   "execution_count": 169,
   "metadata": {},
   "outputs": [],
   "source": [
    "mx = 0\n",
    "snd = 0\n",
    "trd = 0\n",
    "for i in range(len(vals)):\n",
    "      if vals[i] > vals[mx]:\n",
    "            trd = snd\n",
    "            snd= mx\n",
    "            mx = i"
   ]
  },
  {
   "cell_type": "code",
   "execution_count": 231,
   "metadata": {},
   "outputs": [
    {
     "data": {
      "text/plain": [
       "'1111010011111111'"
      ]
     },
     "execution_count": 231,
     "metadata": {},
     "output_type": "execute_result"
    }
   ],
   "source": [
    "list(samp.result().get_counts().keys())[mx]"
   ]
  },
  {
   "cell_type": "code",
   "execution_count": null,
   "metadata": {},
   "outputs": [],
   "source": [
    "#you can check your discriminators output for a sample with the following code"
   ]
  },
  {
   "cell_type": "code",
   "execution_count": 232,
   "metadata": {},
   "outputs": [],
   "source": [
    "a = np.array([[1,1,1,1,0,1,0,0,1,1,1,1,1,1,1,1]])"
   ]
  },
  {
   "cell_type": "code",
   "execution_count": 234,
   "metadata": {},
   "outputs": [
    {
     "data": {
      "text/plain": [
       "array([[0.81016019]])"
      ]
     },
     "execution_count": 234,
     "metadata": {},
     "output_type": "execute_result"
    }
   ],
   "source": [
    "qgan.discriminator.get_label(a)"
   ]
  }
 ],
 "metadata": {
  "kernelspec": {
   "display_name": "Python 3",
   "language": "python",
   "name": "python3"
  },
  "language_info": {
   "codemirror_mode": {
    "name": "ipython",
    "version": 3
   },
   "file_extension": ".py",
   "mimetype": "text/x-python",
   "name": "python",
   "nbconvert_exporter": "python",
   "pygments_lexer": "ipython3",
   "version": "3.8.5"
  }
 },
 "nbformat": 4,
 "nbformat_minor": 4
}
